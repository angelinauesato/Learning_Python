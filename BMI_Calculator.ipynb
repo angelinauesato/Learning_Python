{
  "nbformat": 4,
  "nbformat_minor": 0,
  "metadata": {
    "colab": {
      "provenance": []
    },
    "kernelspec": {
      "name": "python3",
      "display_name": "Python 3"
    },
    "language_info": {
      "name": "python"
    }
  },
  "cells": [
    {
      "cell_type": "markdown",
      "source": [
        "# **BMI Calculator**\n",
        "Source: https://www.cdc.gov/healthyweight/assessing/bmi/adult_bmi/index.html\n",
        "\n",
        "Formula: weight (kg) / [height (m)] ^ 2\n",
        "\n",
        "Example: Weight = 68 kg, Height = 165 cm (1.65 m)\n",
        "\n",
        "Calculation: 68 ÷ (1.65)2 = 24.98"
      ],
      "metadata": {
        "id": "fOTvTJ3RguLn"
      }
    },
    {
      "cell_type": "code",
      "execution_count": 12,
      "metadata": {
        "colab": {
          "base_uri": "https://localhost:8080/"
        },
        "id": "7f4LJ8LHgqEv",
        "outputId": "4e1cfa7d-be0d-48d7-c7d4-ee0c4a0e80f6"
      },
      "outputs": [
        {
          "output_type": "stream",
          "name": "stdout",
          "text": [
            "Enter your name: Angie\n",
            "Enter your weight in kg: 70\n",
            "Enter your height in meters: 1.61\n",
            "Your BMI is: 27.005\n",
            "Angie, you are overweight. Your BMI is: 27.005\n"
          ]
        }
      ],
      "source": [
        "name = input(\"Enter your name: \")\n",
        "\n",
        "weight = float(input(\"Enter your weight in kg: \"))\n",
        "\n",
        "height = float(input(\"Enter your height in meters: \"))\n",
        "\n",
        "BMI = round((weight / (height) ** 2), 3)\n",
        "\n",
        "print(\"Your BMI is: \" + str(BMI))\n",
        "\n",
        "if BMI > 0:\n",
        "  if BMI < 18.5:\n",
        "    print(name + ', you are underweight. Your BMI is: ' + str(BMI))\n",
        "  elif BMI >= 18.5 and BMI <= 24.9:\n",
        "    print(name + ', you are healthy weight. Your BMI is: ' + str(BMI))\n",
        "  elif BMI >=25 and BMI < 29.9:\n",
        "    print(name + ', you are overweight. Your BMI is: ' + str(BMI))\n",
        "  elif BMI >= 30:\n",
        "    print(name + ', you are obese. Your BMI is: ' + str(BMI))\n",
        "else:\n",
        "  print('Enter valid inputs.')"
      ]
    },
    {
      "cell_type": "markdown",
      "source": [
        "\n",
        "# The standard weight status categories associated with BMI ranges for adults are shown in the following table.\n",
        "\n",
        "\n",
        "| BMI\tWeight | Status|\n",
        "-------------------|------------------\n",
        "Below 18.5\t| Underweight\n",
        "18.5 - 24.9\t| Healthy Weight\n",
        "25.0 - 29.9\t| Overweight\n",
        "30.0 and Above |\tObesity\n",
        "\n",
        "\n",
        "Source: https://www.cdc.gov/healthyweight/assessing/bmi/adult_bmi/index.html#InterpretedAdults\n"
      ],
      "metadata": {
        "id": "LYuJASMHiqIN"
      }
    },
    {
      "cell_type": "code",
      "source": [
        "if BMI > 0:\n",
        "  if BMI < 18.5:\n",
        "    print('You are underweight. Your BMI is: ' + str(BMI))\n",
        "  elif BMI >= 18.5 and BMI <= 24.9:\n",
        "    print('You are healthy weight. Your BMI is: ' + str(BMI))\n",
        "  elif BMI >=25 and BMI < 29.9:\n",
        "    print('You are overweight. Your BMI is: ' + str(BMI))\n",
        "  elif BMI >= 30:\n",
        "    print('You are obese. Your BMI is: ' + str(BMI))\n",
        "else:\n",
        "  print('Enter valid inputs.')"
      ],
      "metadata": {
        "colab": {
          "base_uri": "https://localhost:8080/"
        },
        "id": "BldtZ8TGhzVV",
        "outputId": "277950d5-69f7-40b5-cddd-b52ecb49d79f"
      },
      "execution_count": 9,
      "outputs": [
        {
          "output_type": "stream",
          "name": "stdout",
          "text": [
            "You are obese. Your BMI is: 33.332\n"
          ]
        }
      ]
    },
    {
      "cell_type": "code",
      "source": [],
      "metadata": {
        "id": "X5xuGNjojqLb"
      },
      "execution_count": null,
      "outputs": []
    }
  ]
}